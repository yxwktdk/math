{
 "cells": [
  {
   "cell_type": "code",
   "execution_count": 1,
   "metadata": {},
   "outputs": [
    {
     "name": "stdout",
     "output_type": "stream",
     "text": [
      "Updated: questions_ver0101_178.json\n",
      "Updated: questions_ver0101_51.json\n",
      "Updated: questions_ver0101_771.json\n",
      "Updated: questions_ver0101_23.json\n",
      "Updated: questions_ver0101_0.json\n",
      "Updated: questions_ver0101_38.json\n",
      "Updated: questions_ver0101_61.json\n",
      "Updated: questions_ver0101_42.json\n",
      "Updated: questions_ver0101_3.json\n",
      "Updated: questions_ver0101_29.json\n",
      "Updated: questions_ver0101_1.json\n",
      "Updated: questions_ver0101_162.json\n",
      "Updated: questions_ver0101_9.json\n",
      "Updated: questions_ver0101_37.json\n",
      "Updated: questions_ver0101_25.json\n",
      "Updated: questions_ver0101_762.json\n",
      "Updated: questions_ver0101_6.json\n",
      "Updated: questions_ver0101_66.json\n"
     ]
    }
   ],
   "source": [
    "import os  \n",
    "import json  \n",
    "\n",
    "def update_image_paths(folder):  \n",
    "    \"\"\"  \n",
    "    更新文件夹中所有 JSON 文件的 Image 路径，将 'images/' 替换为 'mathverse/images/'。  \n",
    "    \"\"\"  \n",
    "    for file_name in os.listdir(folder):  \n",
    "        if file_name.endswith(\".json\"):  \n",
    "            file_path = os.path.join(folder, file_name)  \n",
    "            \n",
    "            # 读取 JSON 文件  \n",
    "            with open(file_path, \"r\") as f:  \n",
    "                data = json.load(f)  \n",
    "            \n",
    "            # 遍历每个 problem 并更新 Image 路径  \n",
    "            for problem in data.get(\"problems\", []):  \n",
    "                image_path = problem[\"problem\"].get(\"Image\", \"\")  \n",
    "                if image_path.startswith(\"images/\"):  \n",
    "                    problem[\"problem\"][\"Image\"] = image_path.replace(\"images/\", \"mathverse/images/\")  \n",
    "            \n",
    "            # 将更新后的数据写回 JSON 文件  \n",
    "            with open(file_path, \"w\") as f:  \n",
    "                json.dump(data, f, indent=4)  \n",
    "            print(f\"Updated: {file_name}\")  \n",
    "\n",
    "\n",
    "folder_path = \"/home/yangxw/math/questions/new/mathverse\"  # 替换为你的 JSON 文件夹路径  \n",
    "update_image_paths(folder_path)  "
   ]
  }
 ],
 "metadata": {
  "kernelspec": {
   "display_name": "llava",
   "language": "python",
   "name": "llava"
  },
  "language_info": {
   "codemirror_mode": {
    "name": "ipython",
    "version": 3
   },
   "file_extension": ".py",
   "mimetype": "text/x-python",
   "name": "python",
   "nbconvert_exporter": "python",
   "pygments_lexer": "ipython3",
   "version": "3.10.16"
  }
 },
 "nbformat": 4,
 "nbformat_minor": 2
}
